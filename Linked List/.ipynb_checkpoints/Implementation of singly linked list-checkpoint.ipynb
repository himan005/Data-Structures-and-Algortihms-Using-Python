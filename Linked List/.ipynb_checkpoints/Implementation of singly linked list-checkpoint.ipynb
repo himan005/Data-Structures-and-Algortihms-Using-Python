{
 "cells": [
  {
   "cell_type": "code",
   "execution_count": 13,
   "metadata": {},
   "outputs": [],
   "source": [
    "class Node(object):\n",
    "    \n",
    "    def __init__(self, data):\n",
    "        \n",
    "        self.data = data;\n",
    "        self.next = None;"
   ]
  },
  {
   "cell_type": "markdown",
   "metadata": {},
   "source": [
    "# this is linkedlist in which node are created manual at the tail"
   ]
  },
  {
   "cell_type": "code",
   "execution_count": 20,
   "metadata": {},
   "outputs": [],
   "source": [
    "class LinkedList(object):\n",
    "    \n",
    "    def __init__(self):\n",
    "        self.head = None\n",
    "    \n",
    "    def insert(self, newNode):\n",
    "        if self.head is None:\n",
    "            self.head = newNode\n",
    "        else:\n",
    "            lastNode = self.head;\n",
    "            while True:\n",
    "                if lastNode.next is None:\n",
    "                    break\n",
    "                lastNode = lastNode.next\n",
    "            lastNode.next = newNode\n",
    "    \n",
    "    # inserting data between to nodes\n",
    "    def insertAt(self, newNode, position):\n",
    "        if position is 0:\n",
    "            self.\n",
    "        currentNode = self.head\n",
    "        currentPosition = 0\n",
    "        while True:\n",
    "            if currentPosition  == Position:\n",
    "                \n",
    "            currentNode = currentNode.next\n",
    "            currentPosition  += 1\n",
    "        \n",
    "        \n",
    "    \n",
    "    def printList(self):\n",
    "        if self.head is None:\n",
    "            print(\"List is Empty\")\n",
    "            return\n",
    "        currentNode = self.head\n",
    "        while True:\n",
    "            if currentNode is None:\n",
    "                break\n",
    "            print(currentNode.data)\n",
    "            currentNode = currentNode.next\n",
    "        "
   ]
  },
  {
   "cell_type": "code",
   "execution_count": 22,
   "metadata": {},
   "outputs": [
    {
     "name": "stdout",
     "output_type": "stream",
     "text": [
      "John\n",
      "Ben\n",
      "Matthew\n"
     ]
    }
   ],
   "source": [
    "firstNode = Node(\"John\")\n",
    "linkedlist = LinkedList()\n",
    "linkedlist.insert(firstNode)\n",
    "secondNode = Node(\"Ben\")\n",
    "linkedlist.insert(secondNode)\n",
    "thirdNode = Node(\"Matthew\")\n",
    "linkedlist.insert(thirdNode)\n",
    "linkedlist.printList()"
   ]
  },
  {
   "cell_type": "markdown",
   "metadata": {},
   "source": [
    "# Creating Linkedlist in which node is created manually and node is create as head \n",
    "# In upper code every node we inserted is at the tail position  but in this code every node we insert will be on head position.\n"
   ]
  },
  {
   "cell_type": "code",
   "execution_count": 24,
   "metadata": {},
   "outputs": [],
   "source": [
    "class Node(object):\n",
    "    \n",
    "    def __init__(self,data):\n",
    "        self.data = data\n",
    "        self.next = None"
   ]
  },
  {
   "cell_type": "code",
   "execution_count": 26,
   "metadata": {},
   "outputs": [],
   "source": [
    "class SinglyLinkedlist(object):\n",
    "    \n",
    "    def __init__(self):\n",
    "        self.head = None\n",
    "    \n",
    "    def insertashead(self, newNode):\n",
    "        if self.head is None:\n",
    "            self.head = newNode\n",
    "        else:   \n",
    "            temporaryNode = self.head\n",
    "            self.head = newNode\n",
    "            self.head.next = temporaryNode\n",
    "            del temporaryNode\n",
    "    \n",
    "    def printList(self):\n",
    "        if self.head is None:\n",
    "            print(\"LinkedList is empty\")\n",
    "            return\n",
    "        currentNode = self.head\n",
    "        while True:\n",
    "            if currentNode is None:\n",
    "                break\n",
    "            print(currentNode.data)\n",
    "            currentNode = currentNode.next\n",
    "        "
   ]
  },
  {
   "cell_type": "code",
   "execution_count": 31,
   "metadata": {},
   "outputs": [
    {
     "name": "stdout",
     "output_type": "stream",
     "text": [
      "Mettew\n",
      "Ben\n",
      "john\n"
     ]
    }
   ],
   "source": [
    "firstNode = Node(\"john\")\n",
    "linkedList  = SinglyLinkedlist()\n",
    "linkedList.insertashead(firstNode)\n",
    "secondNode = Node(\"Ben\")\n",
    "linkedList.insertashead(secondNode)\n",
    "thirdNode = Node(\"Mettew\")\n",
    "linkedList.insertashead(thirdNode)\n",
    "linkedList.printList()"
   ]
  },
  {
   "cell_type": "markdown",
   "metadata": {},
   "source": [
    "# Insert node between two nodes"
   ]
  },
  {
   "cell_type": "code",
   "execution_count": 10,
   "metadata": {},
   "outputs": [
    {
     "data": {
      "text/plain": [
       "3"
      ]
     },
     "execution_count": 10,
     "metadata": {},
     "output_type": "execute_result"
    }
   ],
   "source": [
    "class LinkedList(object):\n",
    "    \n",
    "    def __init__(self):\n",
    "        self.head = None\n",
    "    \n",
    "    def insert(self, newNode):\n",
    "        if self.head is None:\n",
    "            self.head = newNode\n",
    "        else:\n",
    "            lastNode = self.head;\n",
    "            while True:\n",
    "                if lastNode.next is None:\n",
    "                    break\n",
    "                lastNode = lastNode.next\n",
    "            lastNode.next = newNode\n",
    "            \n",
    "    def insertashead(self, newNode):\n",
    "        if self.head is None:\n",
    "            self.head = newNode\n",
    "        else:   \n",
    "            temporaryNode = self.head\n",
    "            self.head = newNode\n",
    "            self.head.next = temporaryNode\n",
    "            del temporaryNode\n",
    "    \n",
    "    # inserting data between to nodes\n",
    "    def insertAt(self, newNode, position):\n",
    "        if position is 0:\n",
    "            self.insertashead(newNode)\n",
    "            return\n",
    "        currentNode = self.head\n",
    "        currentPosition = 0\n",
    "        while True:\n",
    "            if currentPosition == Position:\n",
    "                previousNode.next = newNode\n",
    "                newNode.next = currentNode\n",
    "                break\n",
    "            previousNode = currentNode\n",
    "            currentNode = currentNode.next\n",
    "            currentPosition  += 1\n",
    "        \n",
    "        \n",
    "    def printList(self):\n",
    "        if self.head is None:\n",
    "            print(\"List is Empty\")\n",
    "            return\n",
    "        currentNode = self.head\n",
    "        while True:\n",
    "            if currentNode is None:\n",
    "                break\n",
    "            print(currentNode.data)\n",
    "            currentNode = currentNode.next\n",
    "        "
   ]
  },
  {
   "cell_type": "code",
   "execution_count": null,
   "metadata": {},
   "outputs": [],
   "source": []
  }
 ],
 "metadata": {
  "kernelspec": {
   "display_name": "Python 3",
   "language": "python",
   "name": "python3"
  },
  "language_info": {
   "codemirror_mode": {
    "name": "ipython",
    "version": 3
   },
   "file_extension": ".py",
   "mimetype": "text/x-python",
   "name": "python",
   "nbconvert_exporter": "python",
   "pygments_lexer": "ipython3",
   "version": "3.6.4"
  }
 },
 "nbformat": 4,
 "nbformat_minor": 2
}
