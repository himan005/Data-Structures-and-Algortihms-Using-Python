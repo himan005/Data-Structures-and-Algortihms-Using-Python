{
 "cells": [
  {
   "cell_type": "code",
   "execution_count": 4,
   "metadata": {},
   "outputs": [
    {
     "name": "stdout",
     "output_type": "stream",
     "text": [
      "Length : 0 and size in bytes 64\n",
      "Length : 1 and size in bytes 96\n",
      "Length : 2 and size in bytes 96\n",
      "Length : 3 and size in bytes 96\n",
      "Length : 4 and size in bytes 96\n",
      "Length : 5 and size in bytes 128\n",
      "Length : 6 and size in bytes 128\n",
      "Length : 7 and size in bytes 128\n",
      "Length : 8 and size in bytes 128\n",
      "Length : 9 and size in bytes 192\n"
     ]
    }
   ],
   "source": [
    "import sys\n",
    "n = 10\n",
    "data = []\n",
    "for i in range(n):\n",
    "    a  = len(data)\n",
    "    # get the size in bytes\n",
    "    b = sys.getsizeof(data)\n",
    "    print ('Length : {} and size in bytes {}'.format(a,b))\n",
    "    data.append(n)"
   ]
  },
  {
   "cell_type": "markdown",
   "metadata": {},
   "source": [
    "# Example of public and private functions"
   ]
  },
  {
   "cell_type": "code",
   "execution_count": 8,
   "metadata": {},
   "outputs": [],
   "source": [
    "class m(object):\n",
    "    \n",
    "     def public(self):\n",
    "            print(\"This function is public\")\n",
    "    \n",
    "     def _private(self):\n",
    "            print(\"This function is private\")"
   ]
  },
  {
   "cell_type": "code",
   "execution_count": 13,
   "metadata": {},
   "outputs": [
    {
     "name": "stdout",
     "output_type": "stream",
     "text": [
      "This function is public\n",
      "This function is private\n"
     ]
    }
   ],
   "source": [
    "M = m()\n",
    "M.public()\n",
    "M._private()"
   ]
  },
  {
   "cell_type": "markdown",
   "metadata": {},
   "source": [
    "# Implementation of Dynamic Array"
   ]
  },
  {
   "cell_type": "code",
   "execution_count": 15,
   "metadata": {},
   "outputs": [],
   "source": [
    "import ctypes"
   ]
  },
  {
   "cell_type": "code",
   "execution_count": 20,
   "metadata": {},
   "outputs": [],
   "source": [
    "class DynamicArray(object):\n",
    "    \n",
    "    def __init__(self):\n",
    "        \n",
    "        self.n = 0\n",
    "        self.capacity = 1\n",
    "        self.A = self.make_array(self.capacity)\n",
    "        \n",
    "    def __len__(self):\n",
    "        return self.n\n",
    "    \n",
    "    def __getitem__(self,k):\n",
    "        \n",
    "        if not 0 <= k < self.n:\n",
    "                return IndexError('K is out of bound')\n",
    "        return self.A[k]\n",
    "    \n",
    "    def append(self,elem):\n",
    "        if self.n == self.capacity:\n",
    "            self._resize(2* self.capacity)\n",
    "        self.A[self.n] = elem\n",
    "        self.n += 1\n",
    "    \n",
    "    def _resize(self, new_cap):\n",
    "        B = self.make_array(new_cap)\n",
    "        for k in range(self.n):\n",
    "            B[k] = self.A[k]\n",
    "        self.A = B\n",
    "        self.capacity = new_cap\n",
    "    \n",
    "    def make_array(self, new_cap):\n",
    "        return (new_cap * ctypes.py_object)()\n",
    "        "
   ]
  },
  {
   "cell_type": "code",
   "execution_count": 21,
   "metadata": {},
   "outputs": [],
   "source": [
    "arr = DynamicArray()"
   ]
  },
  {
   "cell_type": "code",
   "execution_count": 22,
   "metadata": {},
   "outputs": [],
   "source": [
    "arr.append(1)"
   ]
  },
  {
   "cell_type": "code",
   "execution_count": 23,
   "metadata": {},
   "outputs": [
    {
     "data": {
      "text/plain": [
       "1"
      ]
     },
     "execution_count": 23,
     "metadata": {},
     "output_type": "execute_result"
    }
   ],
   "source": [
    "len(arr)"
   ]
  },
  {
   "cell_type": "code",
   "execution_count": 24,
   "metadata": {},
   "outputs": [],
   "source": [
    "arr.append(3)"
   ]
  },
  {
   "cell_type": "code",
   "execution_count": 26,
   "metadata": {},
   "outputs": [
    {
     "data": {
      "text/plain": [
       "2"
      ]
     },
     "execution_count": 26,
     "metadata": {},
     "output_type": "execute_result"
    }
   ],
   "source": [
    "len(arr)"
   ]
  },
  {
   "cell_type": "code",
   "execution_count": 27,
   "metadata": {},
   "outputs": [
    {
     "data": {
      "text/plain": [
       "1"
      ]
     },
     "execution_count": 27,
     "metadata": {},
     "output_type": "execute_result"
    }
   ],
   "source": [
    "arr[0]"
   ]
  },
  {
   "cell_type": "code",
   "execution_count": 28,
   "metadata": {},
   "outputs": [
    {
     "data": {
      "text/plain": [
       "3"
      ]
     },
     "execution_count": 28,
     "metadata": {},
     "output_type": "execute_result"
    }
   ],
   "source": [
    "arr[1]"
   ]
  },
  {
   "cell_type": "code",
   "execution_count": null,
   "metadata": {},
   "outputs": [],
   "source": []
  }
 ],
 "metadata": {
  "kernelspec": {
   "display_name": "Python 3",
   "language": "python",
   "name": "python3"
  },
  "language_info": {
   "codemirror_mode": {
    "name": "ipython",
    "version": 3
   },
   "file_extension": ".py",
   "mimetype": "text/x-python",
   "name": "python",
   "nbconvert_exporter": "python",
   "pygments_lexer": "ipython3",
   "version": "3.6.4"
  }
 },
 "nbformat": 4,
 "nbformat_minor": 2
}
